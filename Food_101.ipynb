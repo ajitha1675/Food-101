{
  "metadata": {
    "kernelspec": {
      "language": "python",
      "display_name": "Python 3",
      "name": "python3"
    },
    "language_info": {
      "name": "python",
      "version": "3.10.13",
      "mimetype": "text/x-python",
      "codemirror_mode": {
        "name": "ipython",
        "version": 3
      },
      "pygments_lexer": "ipython3",
      "nbconvert_exporter": "python",
      "file_extension": ".py"
    },
    "kaggle": {
      "accelerator": "none",
      "dataSources": [
        {
          "sourceId": 11959,
          "sourceType": "datasetVersion",
          "datasetId": 8544
        }
      ],
      "dockerImageVersionId": 30673,
      "isInternetEnabled": true,
      "language": "python",
      "sourceType": "notebook",
      "isGpuEnabled": false
    },
    "colab": {
      "name": "Food 101",
      "provenance": []
    }
  },
  "nbformat_minor": 0,
  "nbformat": 4,
  "cells": [
    {
      "source": [
        "\n",
        "# IMPORTANT: RUN THIS CELL IN ORDER TO IMPORT YOUR KAGGLE DATA SOURCES\n",
        "# TO THE CORRECT LOCATION (/kaggle/input) IN YOUR NOTEBOOK,\n",
        "# THEN FEEL FREE TO DELETE THIS CELL.\n",
        "# NOTE: THIS NOTEBOOK ENVIRONMENT DIFFERS FROM KAGGLE'S PYTHON\n",
        "# ENVIRONMENT SO THERE MAY BE MISSING LIBRARIES USED BY YOUR\n",
        "# NOTEBOOK.\n",
        "\n",
        "import os\n",
        "import sys\n",
        "from tempfile import NamedTemporaryFile\n",
        "from urllib.request import urlopen\n",
        "from urllib.parse import unquote, urlparse\n",
        "from urllib.error import HTTPError\n",
        "from zipfile import ZipFile\n",
        "import tarfile\n",
        "import shutil\n",
        "\n",
        "CHUNK_SIZE = 40960\n",
        "DATA_SOURCE_MAPPING = 'food-101:https%3A%2F%2Fstorage.googleapis.com%2Fkaggle-data-sets%2F8544%2F11959%2Fbundle%2Farchive.zip%3FX-Goog-Algorithm%3DGOOG4-RSA-SHA256%26X-Goog-Credential%3Dgcp-kaggle-com%2540kaggle-161607.iam.gserviceaccount.com%252F20240404%252Fauto%252Fstorage%252Fgoog4_request%26X-Goog-Date%3D20240404T092325Z%26X-Goog-Expires%3D259200%26X-Goog-SignedHeaders%3Dhost%26X-Goog-Signature%3D0acfc5342939d262d40c6bc1b7650504595b42e5324b3f2f308a550fcdf603ecde04f81c3c8d69c74018ef5d64835acca759c4fcb62298acfa18ffe3efb0cd9ef9bd90284f46e566b8654b609697d56c417f51ee0a4a2221063ae2c82eacaea228101e6dae98370ca728b35fddcc1d935b5a23a056a7ba58c61a07acda4917199bb7bea9478ca16ee6bd3ae9be46764b202c9eb5bdff3a04c4570bc54f6d52a7c34efb6028fee9741d14346b9e770e50b3d910be60e0634d319d2f75b2802a7abe413a5651044e0825369f5980781a165632d5b038d4df0f3f25949d6dd19e8c94759751907ef3d19877874c56b9b6771ba35584c4971acd3ece5d2f2191dc8b'\n",
        "\n",
        "KAGGLE_INPUT_PATH='/kaggle/input'\n",
        "KAGGLE_WORKING_PATH='/kaggle/working'\n",
        "KAGGLE_SYMLINK='kaggle'\n",
        "\n",
        "!umount /kaggle/input/ 2> /dev/null\n",
        "shutil.rmtree('/kaggle/input', ignore_errors=True)\n",
        "os.makedirs(KAGGLE_INPUT_PATH, 0o777, exist_ok=True)\n",
        "os.makedirs(KAGGLE_WORKING_PATH, 0o777, exist_ok=True)\n",
        "\n",
        "try:\n",
        "  os.symlink(KAGGLE_INPUT_PATH, os.path.join(\"..\", 'input'), target_is_directory=True)\n",
        "except FileExistsError:\n",
        "  pass\n",
        "try:\n",
        "  os.symlink(KAGGLE_WORKING_PATH, os.path.join(\"..\", 'working'), target_is_directory=True)\n",
        "except FileExistsError:\n",
        "  pass\n",
        "\n",
        "for data_source_mapping in DATA_SOURCE_MAPPING.split(','):\n",
        "    directory, download_url_encoded = data_source_mapping.split(':')\n",
        "    download_url = unquote(download_url_encoded)\n",
        "    filename = urlparse(download_url).path\n",
        "    destination_path = os.path.join(KAGGLE_INPUT_PATH, directory)\n",
        "    try:\n",
        "        with urlopen(download_url) as fileres, NamedTemporaryFile() as tfile:\n",
        "            total_length = fileres.headers['content-length']\n",
        "            print(f'Downloading {directory}, {total_length} bytes compressed')\n",
        "            dl = 0\n",
        "            data = fileres.read(CHUNK_SIZE)\n",
        "            while len(data) > 0:\n",
        "                dl += len(data)\n",
        "                tfile.write(data)\n",
        "                done = int(50 * dl / int(total_length))\n",
        "                sys.stdout.write(f\"\\r[{'=' * done}{' ' * (50-done)}] {dl} bytes downloaded\")\n",
        "                sys.stdout.flush()\n",
        "                data = fileres.read(CHUNK_SIZE)\n",
        "            if filename.endswith('.zip'):\n",
        "              with ZipFile(tfile) as zfile:\n",
        "                zfile.extractall(destination_path)\n",
        "            else:\n",
        "              with tarfile.open(tfile.name) as tarfile:\n",
        "                tarfile.extractall(destination_path)\n",
        "            print(f'\\nDownloaded and uncompressed: {directory}')\n",
        "    except HTTPError as e:\n",
        "        print(f'Failed to load (likely expired) {download_url} to path {destination_path}')\n",
        "        continue\n",
        "    except OSError as e:\n",
        "        print(f'Failed to load {download_url} to path {destination_path}')\n",
        "        continue\n",
        "\n",
        "print('Data source import complete.')\n"
      ],
      "metadata": {
        "id": "7q5Our1Qa6zV"
      },
      "cell_type": "code",
      "outputs": [],
      "execution_count": null
    },
    {
      "cell_type": "code",
      "source": [
        "import numpy as np\n",
        "import pandas as pd\n",
        "import matplotlib as plot\n",
        "import seaborn as sns\n"
      ],
      "metadata": {
        "_uuid": "8f2839f25d086af736a60e9eeb907d3b93b6e0e5",
        "_cell_guid": "b1076dfc-b9ad-4769-8c92-a6c4dae69d19",
        "execution": {
          "iopub.status.busy": "2024-03-26T11:26:10.274824Z",
          "iopub.execute_input": "2024-03-26T11:26:10.275247Z",
          "iopub.status.idle": "2024-03-26T11:26:11.974713Z",
          "shell.execute_reply.started": "2024-03-26T11:26:10.275217Z",
          "shell.execute_reply": "2024-03-26T11:26:11.973687Z"
        },
        "trusted": true,
        "id": "pr1zqg7Ea6zy"
      },
      "execution_count": null,
      "outputs": []
    },
    {
      "cell_type": "code",
      "source": [
        "#import necessary libraries\n",
        "import os\n",
        "import copy\n",
        "import torch\n",
        "import numpy as np\n",
        "import pandas as pd\n",
        "import torch.nn as nn\n",
        "import torchvision\n",
        "import tensorflow as  tf\n",
        "from torchvision import models\n",
        "from sklearn.utils import shuffle\n",
        "from torchvision import datasets, transforms\n",
        "from torch.utils.data import Dataset, DataLoader\n",
        "from PIL import Image\n",
        "from tqdm import tqdm\n",
        "import matplotlib.pyplot as plt\n",
        "import matplotlib.font_manager\n",
        "from collections import OrderedDict"
      ],
      "metadata": {
        "execution": {
          "iopub.status.busy": "2024-03-26T12:32:17.471717Z",
          "iopub.execute_input": "2024-03-26T12:32:17.472218Z",
          "iopub.status.idle": "2024-03-26T12:32:17.480905Z",
          "shell.execute_reply.started": "2024-03-26T12:32:17.47218Z",
          "shell.execute_reply": "2024-03-26T12:32:17.479547Z"
        },
        "trusted": true,
        "id": "VWmWAQ52a60J"
      },
      "execution_count": null,
      "outputs": []
    },
    {
      "cell_type": "markdown",
      "source": [
        "**Reading the data**"
      ],
      "metadata": {
        "id": "99FOSHqka60K"
      }
    },
    {
      "cell_type": "code",
      "source": [
        "device = torch.device('cuda' if torch.cuda.is_available() else 'cpu')\n",
        "device"
      ],
      "metadata": {
        "execution": {
          "iopub.status.busy": "2024-03-26T11:54:11.455951Z",
          "iopub.execute_input": "2024-03-26T11:54:11.457521Z",
          "iopub.status.idle": "2024-03-26T11:54:11.467556Z",
          "shell.execute_reply.started": "2024-03-26T11:54:11.457452Z",
          "shell.execute_reply": "2024-03-26T11:54:11.466341Z"
        },
        "trusted": true,
        "id": "oSRa3fRNa60Y"
      },
      "execution_count": null,
      "outputs": []
    },
    {
      "cell_type": "code",
      "source": [
        "import os\n",
        "print(os.getcwd())"
      ],
      "metadata": {
        "execution": {
          "iopub.status.busy": "2024-03-26T11:54:27.304859Z",
          "iopub.execute_input": "2024-03-26T11:54:27.305755Z",
          "iopub.status.idle": "2024-03-26T11:54:27.312943Z",
          "shell.execute_reply.started": "2024-03-26T11:54:27.305699Z",
          "shell.execute_reply": "2024-03-26T11:54:27.311757Z"
        },
        "trusted": true,
        "id": "aLZ8lgkxa60Z"
      },
      "execution_count": null,
      "outputs": []
    },
    {
      "cell_type": "code",
      "source": [
        "if \"food-101\" in os.listdir():\n",
        "    print(\"Dataset already exists\")\n",
        "else:\n",
        "    print(\"Downloading the data...\")\n",
        "    !wget http://data.vision.ee.ethz.ch/cvl/food-101.tar.gz\n",
        "    print(\"Dataset downloaded!\")\n",
        "    print(\"Extracting data..\")\n",
        "    !tar xzvf food-101.tar.gz > /dev/null 2>&1\n",
        "    print(\"Extraction done!\")"
      ],
      "metadata": {
        "execution": {
          "iopub.status.busy": "2024-03-26T11:54:58.614218Z",
          "iopub.execute_input": "2024-03-26T11:54:58.615073Z",
          "iopub.status.idle": "2024-03-26T11:54:58.634432Z",
          "shell.execute_reply.started": "2024-03-26T11:54:58.615035Z",
          "shell.execute_reply": "2024-03-26T11:54:58.633335Z"
        },
        "trusted": true,
        "id": "wpDarnm-a60j"
      },
      "execution_count": null,
      "outputs": []
    },
    {
      "cell_type": "code",
      "source": [
        "# Read the content of the 'classes.txt' file\n",
        "with open('food-101/food-101/meta/classes.txt', 'r') as input_file:\n",
        "    lines = input_file.readlines()\n",
        "\n",
        "# Take the first 20 lines from the 'classes.txt' file\n",
        "first_20_lines = lines[:20]\n",
        "\n",
        "# Add the word \"other\" as the 21st line\n",
        "first_20_lines.append(\"other\\n\")\n",
        "\n",
        "# Write the modified content to the 'classes_mod.txt' file\n",
        "with open('/kaggle/working/classes_mod.txt', 'w') as output_file:\n",
        "    output_file.writelines(first_20_lines)\n",
        "\n",
        "print(\"Modified file 'classes_mod.txt' created successfully and here is the file:\")\n",
        "df = pd.read_csv('/kaggle/working/classes_mod.txt', sep='\\t', header=None)\n",
        "print(df)\n",
        "\n",
        "# Read the content of the 'classes.txt' file\n",
        "with open('food-101/food-101/meta/classes.txt', 'r') as input_file:\n",
        "    lines = input_file.readlines()\n",
        "\n",
        "# Take the first 20 lines from the 'classes.txt' file\n",
        "first_20_lines = lines[:20]\n",
        "\n",
        "# Add the word \"other\" as the 21st line\n",
        "first_20_lines.append(\"other\\n\")\n",
        "\n",
        "# Write the modified content to the 'classes_mod.txt' file\n",
        "with open('/kaggle/working/classes_mod.txt', 'w') as output_file:\n",
        "    output_file.writelines(first_20_lines)\n",
        "\n",
        "print(\"Modified file 'classes_mod.txt' created successfully and here is the file:\")\n",
        "df = pd.read_csv('/kaggle/working/classes_mod.txt', sep='\\t', header=None)\n",
        "print(df)"
      ],
      "metadata": {
        "execution": {
          "iopub.status.busy": "2024-03-26T11:56:30.129008Z",
          "iopub.execute_input": "2024-03-26T11:56:30.129479Z",
          "iopub.status.idle": "2024-03-26T11:56:30.15649Z",
          "shell.execute_reply.started": "2024-03-26T11:56:30.129449Z",
          "shell.execute_reply": "2024-03-26T11:56:30.154996Z"
        },
        "trusted": true,
        "id": "RB8PRgKJa60j"
      },
      "execution_count": null,
      "outputs": []
    },
    {
      "cell_type": "code",
      "source": [
        "%cd /kaggle/input/food-101/\n",
        "print(\"Files in the input directory\")\n",
        "print(os.listdir(\"food-101/food-101/meta\"))\n",
        "\n",
        "!head 'food-101/food-101/meta/classes.txt'\n",
        "!head 'food-101/food-101/meta/train.txt'\n",
        "!head 'food-101/food-101/meta/labels.txt'\n",
        "!head 'food-101/food-101/meta/test.txt'"
      ],
      "metadata": {
        "execution": {
          "iopub.status.busy": "2024-03-26T11:59:27.891353Z",
          "iopub.execute_input": "2024-03-26T11:59:27.891837Z",
          "iopub.status.idle": "2024-03-26T11:59:32.36327Z",
          "shell.execute_reply.started": "2024-03-26T11:59:27.891803Z",
          "shell.execute_reply": "2024-03-26T11:59:32.361739Z"
        },
        "trusted": true,
        "id": "0wKNfOg1a60m"
      },
      "execution_count": null,
      "outputs": []
    },
    {
      "cell_type": "code",
      "source": [
        "#from keras# Read the content of the 'classes.txt' file\n",
        "with open('food-101/food-101/meta/classes.txt', 'r') as input_file:\n",
        "    lines = input_file.readlines()\n",
        "\n",
        "# Take the first 20 lines from the 'classes.txt' file\n",
        "first_20_lines = lines[:20]\n",
        "\n",
        "# Add the word \"other\" as the 21st line\n",
        "first_20_lines.append(\"other\\n\")\n",
        "\n",
        "# Write the modified content to the 'classes_mod.txt' file\n",
        "with open('/kaggle/working/classes_mod.txt', 'w') as output_file:\n",
        "    output_file.writelines(first_20_lines)\n",
        "\n",
        "print(\"Modified file 'classes_mod.txt' created successfully and here is the file:\")\n",
        "df = pd.read_csv('/kaggle/working/classes_mod.txt', sep='\\t', header=None)\n",
        "print(df)"
      ],
      "metadata": {
        "execution": {
          "iopub.status.busy": "2024-03-26T12:01:11.147044Z",
          "iopub.execute_input": "2024-03-26T12:01:11.14755Z",
          "iopub.status.idle": "2024-03-26T12:01:11.167949Z",
          "shell.execute_reply.started": "2024-03-26T12:01:11.147501Z",
          "shell.execute_reply": "2024-03-26T12:01:11.166766Z"
        },
        "trusted": true,
        "id": "9w2m3tIIa60v"
      },
      "execution_count": null,
      "outputs": []
    },
    {
      "cell_type": "code",
      "source": [
        "# Read the first 20 lines from 'classes_mod.txt'\n",
        "with open('/kaggle/working/classes_mod.txt', 'r') as classes_file:\n",
        "    first_20_classes = set(line.strip() for line in classes_file)"
      ],
      "metadata": {
        "execution": {
          "iopub.status.busy": "2024-03-26T12:01:41.956097Z",
          "iopub.execute_input": "2024-03-26T12:01:41.956594Z",
          "iopub.status.idle": "2024-03-26T12:01:41.9628Z",
          "shell.execute_reply.started": "2024-03-26T12:01:41.956561Z",
          "shell.execute_reply": "2024-03-26T12:01:41.961566Z"
        },
        "trusted": true,
        "id": "O-r3FLDua60v"
      },
      "execution_count": null,
      "outputs": []
    },
    {
      "cell_type": "code",
      "source": [
        "# Open the 'train.txt' file for reading and 'train_mod.txt' for writing\n",
        "with open('food-101/food-101/meta/train.txt', 'r') as input_file, open('/kaggle/working/train_mod.txt', 'w') as output_file:\n",
        "    for line in input_file:\n",
        "        # Split each line into word and number\n",
        "        parts = line.strip().split('/')\n",
        "        if parts[0] in first_20_classes:\n",
        "            # If the word is in the first 20 classes, write the line as is\n",
        "            output_file.write(line)\n",
        "        else:\n",
        "            # If the word is not in the first 20 classes, replace it with \"other\"\n",
        "            output_file.write(f'other/{parts[1]}\\n')\n"
      ],
      "metadata": {
        "execution": {
          "iopub.status.busy": "2024-03-26T12:01:57.5545Z",
          "iopub.execute_input": "2024-03-26T12:01:57.554916Z",
          "iopub.status.idle": "2024-03-26T12:01:57.662289Z",
          "shell.execute_reply.started": "2024-03-26T12:01:57.554888Z",
          "shell.execute_reply": "2024-03-26T12:01:57.660839Z"
        },
        "trusted": true,
        "id": "_ubMJyTwa60x"
      },
      "execution_count": null,
      "outputs": []
    },
    {
      "cell_type": "code",
      "source": [
        "# Open the 'test.txt' file for reading and 'test_mod.txt' for writing\n",
        "with open('food-101/food-101/meta/test.txt', 'r') as input_file, open('/kaggle/working/test_mod.txt', 'w') as output_file:\n",
        "    for line in input_file:\n",
        "        # Split each line into word and number\n",
        "        parts = line.strip().split('/')\n",
        "        if parts[0] in first_20_classes:\n",
        "            # If the word is in the first 20 classes, write the line as is\n",
        "            output_file.write(line)\n",
        "        else:\n",
        "            # If the word is not in the first 20 classes, replace it with \"other\"\n",
        "            output_file.write(f'other/{parts[1]}\\n')\n",
        "\n",
        "print(\"Modified file 'train_mod.txt' created successfully and here is the file:\")\n",
        "df = pd.read_csv('/kaggle/working/train_mod.txt', sep='\\t', header=None)\n",
        "print(df)\n",
        "print(\"Modified file 'test_mod.txt' created successfully and here is the file:\")\n",
        "df = pd.read_csv('/kaggle/working/test_mod.txt', sep='\\t', header=None)\n",
        "print(df)"
      ],
      "metadata": {
        "execution": {
          "iopub.status.busy": "2024-03-26T12:02:20.812251Z",
          "iopub.execute_input": "2024-03-26T12:02:20.812699Z",
          "iopub.status.idle": "2024-03-26T12:02:20.96528Z",
          "shell.execute_reply.started": "2024-03-26T12:02:20.812666Z",
          "shell.execute_reply": "2024-03-26T12:02:20.964011Z"
        },
        "trusted": true,
        "id": "kB3P8gMka608"
      },
      "execution_count": null,
      "outputs": []
    },
    {
      "cell_type": "markdown",
      "source": [
        "**create path of files**"
      ],
      "metadata": {
        "id": "0Hu4OISPa609"
      }
    },
    {
      "cell_type": "code",
      "source": [
        "def read_train_images_from_file(file_path, base_directory='food-101/food-101/images', image_extension='.jpg', num_lines=None):\n",
        "    with open(file_path, 'r') as file, open('/kaggle/working/sorted_full_paths.txt', 'w') as output_file:\n",
        "        lines = file.readlines()[:num_lines] if num_lines is not None else file.readlines()\n",
        "        for line in lines:\n",
        "            image_path = line.strip()  # Remove leading/trailing whitespace\n",
        "            full_image_path = os.path.join(base_directory, image_path + image_extension)\n",
        "            #print('full_image_path',full_image_path)\n",
        "            output_file.write(full_image_path)\n",
        "            output_file.write(\"\\n\")"
      ],
      "metadata": {
        "execution": {
          "iopub.status.busy": "2024-03-26T12:04:14.876706Z",
          "iopub.execute_input": "2024-03-26T12:04:14.877176Z",
          "iopub.status.idle": "2024-03-26T12:04:14.885526Z",
          "shell.execute_reply.started": "2024-03-26T12:04:14.877129Z",
          "shell.execute_reply": "2024-03-26T12:04:14.884051Z"
        },
        "trusted": true,
        "id": "-9QNd1EHa60-"
      },
      "execution_count": null,
      "outputs": []
    },
    {
      "cell_type": "code",
      "source": [
        "def read_test_images_from_file(file_path, base_directory='food-101/food-101/images', image_extension='.jpg', num_lines=None):\n",
        "    with open(file_path, 'r') as file, open('/kaggle/working/test_full_paths.txt', 'w') as output_file:\n",
        "        lines = file.readlines()[:num_lines] if num_lines is not None else file.readlines()\n",
        "        for line in lines:\n",
        "            image_path = line.strip()  # Remove leading/trailing whitespace\n",
        "            full_image_path = os.path.join(base_directory, image_path + image_extension)\n",
        "            #print('full_image_path',full_image_path)\n",
        "            output_file.write(full_image_path)\n",
        "            output_file.write(\"\\n\")"
      ],
      "metadata": {
        "execution": {
          "iopub.status.busy": "2024-03-26T12:06:22.587431Z",
          "iopub.execute_input": "2024-03-26T12:06:22.587888Z",
          "iopub.status.idle": "2024-03-26T12:06:22.596548Z",
          "shell.execute_reply.started": "2024-03-26T12:06:22.587855Z",
          "shell.execute_reply": "2024-03-26T12:06:22.595114Z"
        },
        "trusted": true,
        "id": "VPy0Di4ga60-"
      },
      "execution_count": null,
      "outputs": []
    },
    {
      "cell_type": "code",
      "source": [
        "#read_images_from_file('food-101/food-101/meta/train.txt', num_lines=42)\n",
        "read_train_images_from_file('food-101/food-101/meta/train.txt')\n",
        "read_test_images_from_file('food-101/food-101/meta/test.txt')\n",
        "print(\"sorted_full_paths.txt' created successfully and here is the file:\")"
      ],
      "metadata": {
        "execution": {
          "iopub.status.busy": "2024-03-26T12:07:06.390429Z",
          "iopub.execute_input": "2024-03-26T12:07:06.390862Z",
          "iopub.status.idle": "2024-03-26T12:07:06.700655Z",
          "shell.execute_reply.started": "2024-03-26T12:07:06.39083Z",
          "shell.execute_reply": "2024-03-26T12:07:06.699367Z"
        },
        "trusted": true,
        "id": "QvFVeTQda60_"
      },
      "execution_count": null,
      "outputs": []
    },
    {
      "cell_type": "markdown",
      "source": [
        "**Create Train and Test data**"
      ],
      "metadata": {
        "id": "ixb4sVlWa60_"
      }
    },
    {
      "cell_type": "code",
      "source": [
        "#from keras.preprocessing.image import ImageDataGenerator\n",
        "from tensorflow.keras.preprocessing.image import ImageDataGenerator\n",
        "train_datagen = ImageDataGenerator(rescale=1./255,\n",
        "                                    rotation_range=10,\n",
        "                                    width_shift_range=0.1,\n",
        "                                    height_shift_range=0.1,\n",
        "                                    shear_range=0.2,\n",
        "                                    zoom_range=0.2,\n",
        "                                    horizontal_flip=True,\n",
        "                                    vertical_flip=True\n",
        "                                  )\n",
        "test_datagen = ImageDataGenerator(rescale=1./255)"
      ],
      "metadata": {
        "execution": {
          "iopub.status.busy": "2024-03-26T12:09:59.575318Z",
          "iopub.execute_input": "2024-03-26T12:09:59.575777Z",
          "iopub.status.idle": "2024-03-26T12:09:59.584091Z",
          "shell.execute_reply.started": "2024-03-26T12:09:59.575746Z",
          "shell.execute_reply": "2024-03-26T12:09:59.582931Z"
        },
        "trusted": true,
        "id": "NQUXpYUUa61A"
      },
      "execution_count": null,
      "outputs": []
    },
    {
      "cell_type": "code",
      "source": [
        "# Read train image paths\n",
        "with open('/kaggle/working/sorted_full_paths.txt', 'r') as file:\n",
        "    image_paths = file.read().splitlines()\n",
        "\n",
        "# Read train labels and process them\n",
        "with open('/kaggle/working/train_mod.txt', 'r') as file:\n",
        "    labels = [line.split('/')[0].replace('_', ' ') for line in file]  # Remove underscores from labels"
      ],
      "metadata": {
        "execution": {
          "iopub.status.busy": "2024-03-26T12:10:16.455387Z",
          "iopub.execute_input": "2024-03-26T12:10:16.456259Z",
          "iopub.status.idle": "2024-03-26T12:10:16.523315Z",
          "shell.execute_reply.started": "2024-03-26T12:10:16.456219Z",
          "shell.execute_reply": "2024-03-26T12:10:16.522066Z"
        },
        "trusted": true,
        "id": "JlOM09CQa61A"
      },
      "execution_count": null,
      "outputs": []
    },
    {
      "cell_type": "code",
      "source": [
        "# Create a train DataFrame\n",
        "df_train = pd.DataFrame({'filename': image_paths, 'label': labels})\n",
        "print(df_train)\n",
        "\n",
        "train_generator = train_datagen.flow_from_dataframe(dataframe=df_train,\n",
        "                                                   x_col='filename',\n",
        "                                                   y_col='label',  # If you have labels\n",
        "                                                   batch_size=100,\n",
        "                                                   class_mode='categorical')  # Change this according to your task"
      ],
      "metadata": {
        "execution": {
          "iopub.status.busy": "2024-03-26T12:10:46.771003Z",
          "iopub.execute_input": "2024-03-26T12:10:46.7723Z",
          "iopub.status.idle": "2024-03-26T12:12:36.193017Z",
          "shell.execute_reply.started": "2024-03-26T12:10:46.772247Z",
          "shell.execute_reply": "2024-03-26T12:12:36.191919Z"
        },
        "trusted": true,
        "id": "z1ylsMcNa61G"
      },
      "execution_count": null,
      "outputs": []
    },
    {
      "cell_type": "code",
      "source": [
        "\n",
        "def barplot_vis(imgs_dataframe):# Use the newly integrated Roboto font family for all text.\n",
        "    fig, ax = plt.subplots()\n",
        "\n",
        "    new_labels = [row if row in classes_21 else \"other\" for row in imgs_dataframe.label]\n",
        "    tmp_imgs_dataframe = imgs_dataframe.copy(deep=True)\n",
        "    tmp_imgs_dataframe['label'] = new_labels\n",
        "\n",
        "    grouped_train_imgs = tmp_imgs_dataframe.groupby(\"label\")\n",
        "\n",
        "    heights = [grouped_train_imgs.get_group(group).shape[0] for group in classes_21]"
      ],
      "metadata": {
        "execution": {
          "iopub.status.busy": "2024-03-26T12:29:36.494652Z",
          "iopub.execute_input": "2024-03-26T12:29:36.495081Z",
          "iopub.status.idle": "2024-03-26T12:29:36.503187Z",
          "shell.execute_reply.started": "2024-03-26T12:29:36.49505Z",
          "shell.execute_reply": "2024-03-26T12:29:36.501934Z"
        },
        "trusted": true,
        "id": "PK32_NFHa61H"
      },
      "execution_count": null,
      "outputs": []
    },
    {
      "cell_type": "code",
      "source": [
        "#Two GPU Function\n",
        "strategy = tf.distribute.MirroredStrategy()\n",
        "print('Number of devices: {}'.format(strategy.num_replicas_in_sync))\n",
        "\n",
        "from keras.applications import VGG16\n",
        "from keras.models import Model\n",
        "from keras.layers import Dense, GlobalAveragePooling2D\n"
      ],
      "metadata": {
        "execution": {
          "iopub.status.busy": "2024-03-26T12:32:35.224273Z",
          "iopub.execute_input": "2024-03-26T12:32:35.224713Z",
          "iopub.status.idle": "2024-03-26T12:32:35.287086Z",
          "shell.execute_reply.started": "2024-03-26T12:32:35.224683Z",
          "shell.execute_reply": "2024-03-26T12:32:35.286217Z"
        },
        "trusted": true,
        "id": "ArcwZyU_a61H"
      },
      "execution_count": null,
      "outputs": []
    },
    {
      "cell_type": "code",
      "source": [
        "# Build your model here\n",
        "with strategy.scope():\n",
        "    # Load the pre-trained model (excluding the top classification layers)\n",
        "    #base_model = VGG16(weights='imagenet', include_top=False, input_shape=(240, 320, 3))\n",
        "    base_model = VGG16(weights='imagenet', include_top=False)\n",
        "\n",
        "    # Add custom classification layers\n",
        "    x = base_model.output\n",
        "    x = GlobalAveragePooling2D()(x)\n",
        "    x = Dense(256, activation='relu')(x)\n",
        "    predictions = Dense(21, activation='softmax')(x)  # Assuming 21 classes\n"
      ],
      "metadata": {
        "execution": {
          "iopub.status.busy": "2024-03-26T12:33:26.878581Z",
          "iopub.execute_input": "2024-03-26T12:33:26.879436Z",
          "iopub.status.idle": "2024-03-26T12:33:27.952932Z",
          "shell.execute_reply.started": "2024-03-26T12:33:26.879396Z",
          "shell.execute_reply": "2024-03-26T12:33:27.951713Z"
        },
        "trusted": true,
        "id": "OnU4g0rSa61I"
      },
      "execution_count": null,
      "outputs": []
    }
  ]
}